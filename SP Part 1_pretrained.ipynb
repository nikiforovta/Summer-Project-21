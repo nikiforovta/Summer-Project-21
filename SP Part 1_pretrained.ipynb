{
 "cells": [
  {
   "cell_type": "code",
   "execution_count": 1,
   "id": "affecting-introduction",
   "metadata": {},
   "outputs": [],
   "source": [
    "import os\n",
    "import numpy as np\n",
    "import pandas as pd\n",
    "import matplotlib.pyplot as plt\n",
    "import keras\n",
    "from sklearn.preprocessing import StandardScaler\n",
    "from sklearn.model_selection import train_test_split\n",
    "from sklearn import metrics\n",
    "from keras import models\n",
    "from keras import layers\n",
    "from keras.applications.vgg16 import VGG16\n",
    "from keras.preprocessing.image import load_img, img_to_array, ImageDataGenerator\n",
    "from sklearn.preprocessing import LabelEncoder"
   ]
  },
  {
   "cell_type": "code",
   "execution_count": 2,
   "id": "covered-petersburg",
   "metadata": {},
   "outputs": [],
   "source": [
    "# Data gathering\n",
    "\n",
    "x = []\n",
    "y = []\n",
    "IM_SIZE = 150\n",
    "NUM_CLASSES = 120\n",
    "path = './Data/dog-breed-identification'\n",
    "\n",
    "df = pd.read_csv(f'{path}/labels.csv', header=0)\n",
    "breeds = list(df.breed.value_counts()[:NUM_CLASSES].index)\n",
    "labels = df[df.breed.isin(breeds)]\n",
    "\n",
    "for root, _, files in os.walk(f'{path}/train/'):\n",
    "    for file in files:\n",
    "        if file.split(\".\")[0] in labels.id.values:\n",
    "            img = load_img(f'{root}/{file}', grayscale=False, color_mode='rgb', target_size=(IM_SIZE, IM_SIZE))\n",
    "            x.append(img_to_array(img))\n",
    "            y.append(labels[labels.id == file.split(\".\")[0]].breed)\n",
    "\n",
    "x = np.array(x)"
   ]
  },
  {
   "cell_type": "code",
   "execution_count": 3,
   "id": "dated-mobile",
   "metadata": {},
   "outputs": [
    {
     "name": "stderr",
     "output_type": "stream",
     "text": [
      "C:\\Users\\tim_a\\anaconda3\\envs\\DLmisc\\lib\\site-packages\\sklearn\\utils\\validation.py:63: DataConversionWarning: A column-vector y was passed when a 1d array was expected. Please change the shape of y to (n_samples, ), for example using ravel().\n",
      "  return f(*args, **kwargs)\n"
     ]
    }
   ],
   "source": [
    "# Label Encoding\n",
    "le = LabelEncoder() \n",
    "y = le.fit_transform(y)"
   ]
  },
  {
   "cell_type": "code",
   "execution_count": 4,
   "id": "clean-transcript",
   "metadata": {},
   "outputs": [],
   "source": [
    "mapping = dict(zip(range(len(le.classes_)), le.classes_))"
   ]
  },
  {
   "cell_type": "code",
   "execution_count": 5,
   "id": "found-armor",
   "metadata": {},
   "outputs": [
    {
     "name": "stdout",
     "output_type": "stream",
     "text": [
      "{0: 'affenpinscher', 1: 'afghan_hound', 2: 'african_hunting_dog', 3: 'airedale', 4: 'american_staffordshire_terrier', 5: 'appenzeller', 6: 'australian_terrier', 7: 'basenji', 8: 'basset', 9: 'beagle', 10: 'bedlington_terrier', 11: 'bernese_mountain_dog', 12: 'black-and-tan_coonhound', 13: 'blenheim_spaniel', 14: 'bloodhound', 15: 'bluetick', 16: 'border_collie', 17: 'border_terrier', 18: 'borzoi', 19: 'boston_bull', 20: 'bouvier_des_flandres', 21: 'boxer', 22: 'brabancon_griffon', 23: 'briard', 24: 'brittany_spaniel', 25: 'bull_mastiff', 26: 'cairn', 27: 'cardigan', 28: 'chesapeake_bay_retriever', 29: 'chihuahua', 30: 'chow', 31: 'clumber', 32: 'cocker_spaniel', 33: 'collie', 34: 'curly-coated_retriever', 35: 'dandie_dinmont', 36: 'dhole', 37: 'dingo', 38: 'doberman', 39: 'english_foxhound', 40: 'english_setter', 41: 'english_springer', 42: 'entlebucher', 43: 'eskimo_dog', 44: 'flat-coated_retriever', 45: 'french_bulldog', 46: 'german_shepherd', 47: 'german_short-haired_pointer', 48: 'giant_schnauzer', 49: 'golden_retriever', 50: 'gordon_setter', 51: 'great_dane', 52: 'great_pyrenees', 53: 'greater_swiss_mountain_dog', 54: 'groenendael', 55: 'ibizan_hound', 56: 'irish_setter', 57: 'irish_terrier', 58: 'irish_water_spaniel', 59: 'irish_wolfhound', 60: 'italian_greyhound', 61: 'japanese_spaniel', 62: 'keeshond', 63: 'kelpie', 64: 'kerry_blue_terrier', 65: 'komondor', 66: 'kuvasz', 67: 'labrador_retriever', 68: 'lakeland_terrier', 69: 'leonberg', 70: 'lhasa', 71: 'malamute', 72: 'malinois', 73: 'maltese_dog', 74: 'mexican_hairless', 75: 'miniature_pinscher', 76: 'miniature_poodle', 77: 'miniature_schnauzer', 78: 'newfoundland', 79: 'norfolk_terrier', 80: 'norwegian_elkhound', 81: 'norwich_terrier', 82: 'old_english_sheepdog', 83: 'otterhound', 84: 'papillon', 85: 'pekinese', 86: 'pembroke', 87: 'pomeranian', 88: 'pug', 89: 'redbone', 90: 'rhodesian_ridgeback', 91: 'rottweiler', 92: 'saint_bernard', 93: 'saluki', 94: 'samoyed', 95: 'schipperke', 96: 'scotch_terrier', 97: 'scottish_deerhound', 98: 'sealyham_terrier', 99: 'shetland_sheepdog', 100: 'shih-tzu', 101: 'siberian_husky', 102: 'silky_terrier', 103: 'soft-coated_wheaten_terrier', 104: 'staffordshire_bullterrier', 105: 'standard_poodle', 106: 'standard_schnauzer', 107: 'sussex_spaniel', 108: 'tibetan_mastiff', 109: 'tibetan_terrier', 110: 'toy_poodle', 111: 'toy_terrier', 112: 'vizsla', 113: 'walker_hound', 114: 'weimaraner', 115: 'welsh_springer_spaniel', 116: 'west_highland_white_terrier', 117: 'whippet', 118: 'wire-haired_fox_terrier', 119: 'yorkshire_terrier'}\n"
     ]
    }
   ],
   "source": [
    "print(mapping)"
   ]
  },
  {
   "cell_type": "code",
   "execution_count": 6,
   "id": "bronze-italian",
   "metadata": {},
   "outputs": [],
   "source": [
    "# Data splitting\n",
    "\n",
    "x_train, x_test, y_train, y_test = train_test_split(x, y, test_size=0.25)"
   ]
  },
  {
   "cell_type": "code",
   "execution_count": 7,
   "id": "gorgeous-thousand",
   "metadata": {},
   "outputs": [],
   "source": [
    "y_train = keras.utils.to_categorical(y_train, num_classes=NUM_CLASSES)\n",
    "y_test = keras.utils.to_categorical(y_test, num_classes=NUM_CLASSES)"
   ]
  },
  {
   "cell_type": "code",
   "execution_count": 8,
   "id": "attached-proposal",
   "metadata": {},
   "outputs": [],
   "source": [
    "# Data generators\n",
    "\n",
    "train_datagen = ImageDataGenerator(\n",
    "    rotation_range=40,\n",
    "    width_shift_range=0.25,\n",
    "    height_shift_range=0.25,\n",
    "    rescale=1./255,\n",
    "    shear_range=0.25,\n",
    "    zoom_range=0.25,\n",
    "    horizontal_flip=True,\n",
    "    fill_mode='nearest')\n",
    "\n",
    "test_datagen=ImageDataGenerator(rescale=1./255)\n",
    "\n",
    "training_set=train_datagen.flow(x_train,y=y_train,batch_size=64)\n",
    "testing_set=test_datagen.flow(x_test,y=y_test,batch_size=64)"
   ]
  },
  {
   "cell_type": "code",
   "execution_count": 9,
   "id": "directed-quantity",
   "metadata": {},
   "outputs": [
    {
     "name": "stdout",
     "output_type": "stream",
     "text": [
      "Model: \"sequential\"\n",
      "_________________________________________________________________\n",
      "Layer (type)                 Output Shape              Param #   \n",
      "=================================================================\n",
      "vgg16 (Functional)           (None, 4, 4, 512)         14714688  \n",
      "_________________________________________________________________\n",
      "flatten (Flatten)            (None, 8192)              0         \n",
      "_________________________________________________________________\n",
      "dense (Dense)                (None, 120)               983160    \n",
      "=================================================================\n",
      "Total params: 15,697,848\n",
      "Trainable params: 983,160\n",
      "Non-trainable params: 14,714,688\n",
      "_________________________________________________________________\n"
     ]
    }
   ],
   "source": [
    "# Model with pretrained base (VGG16)\n",
    "from keras.layers import Flatten, Dense\n",
    "from keras.models import Sequential\n",
    "\n",
    "conv_base = VGG16(weights='imagenet',\n",
    "                  include_top=False,\n",
    "                  input_shape=(IM_SIZE, IM_SIZE, 3))\n",
    "\n",
    "model = models.Sequential()\n",
    "\n",
    "model.add(conv_base)\n",
    "model.add(layers.Flatten())\n",
    "model.add(layers.Dense(NUM_CLASSES, activation='softmax'))\n",
    "conv_base.trainable = False\n",
    "model.summary()"
   ]
  },
  {
   "cell_type": "code",
   "execution_count": null,
   "id": "outer-turkish",
   "metadata": {
    "scrolled": false
   },
   "outputs": [
    {
     "name": "stdout",
     "output_type": "stream",
     "text": [
      "Epoch 1/200\n",
      "120/120 [==============================] - 423s 3s/step - loss: 5.1511 - acc: 0.0286 - val_loss: 4.2401 - val_acc: 0.1045\n",
      "Epoch 2/200\n",
      "120/120 [==============================] - 246s 2s/step - loss: 4.1802 - acc: 0.1079 - val_loss: 3.9694 - val_acc: 0.1256\n",
      "Epoch 3/200\n",
      "120/120 [==============================] - 246s 2s/step - loss: 3.8384 - acc: 0.1557 - val_loss: 4.0424 - val_acc: 0.1393\n",
      "Epoch 4/200\n",
      "120/120 [==============================] - 246s 2s/step - loss: 3.7197 - acc: 0.1754 - val_loss: 3.9018 - val_acc: 0.1616\n",
      "Epoch 5/200\n",
      "120/120 [==============================] - 247s 2s/step - loss: 3.5518 - acc: 0.1958 - val_loss: 3.8603 - val_acc: 0.1741\n",
      "Epoch 6/200\n",
      "120/120 [==============================] - 246s 2s/step - loss: 3.4310 - acc: 0.2164 - val_loss: 3.7215 - val_acc: 0.1890\n",
      "Epoch 7/200\n",
      "120/120 [==============================] - 246s 2s/step - loss: 3.3317 - acc: 0.2325 - val_loss: 3.7889 - val_acc: 0.1866\n",
      "Epoch 8/200\n",
      "120/120 [==============================] - 246s 2s/step - loss: 3.1633 - acc: 0.2646 - val_loss: 3.7276 - val_acc: 0.1952\n",
      "Epoch 9/200\n",
      "120/120 [==============================] - 246s 2s/step - loss: 3.1594 - acc: 0.2685 - val_loss: 3.8226 - val_acc: 0.1874\n",
      "Epoch 10/200\n",
      "120/120 [==============================] - 246s 2s/step - loss: 3.1062 - acc: 0.2760 - val_loss: 3.9040 - val_acc: 0.1819\n",
      "Epoch 11/200\n",
      " 99/120 [=======================>......] - ETA: 33s - loss: 3.0835 - acc: 0.2835"
     ]
    }
   ],
   "source": [
    "from keras import optimizers\n",
    "\n",
    "model.compile(loss='categorical_crossentropy',\n",
    "              optimizer=\"adam\",\n",
    "              metrics=['acc'])\n",
    "\n",
    "history = model.fit(training_set, validation_data=testing_set, epochs=200, callbacks=[keras.callbacks.EarlyStopping(monitor=\"val_loss\", patience=5)])"
   ]
  },
  {
   "cell_type": "code",
   "execution_count": null,
   "id": "smaller-catalyst",
   "metadata": {},
   "outputs": [],
   "source": [
    "# Accuracy plot\n",
    "\n",
    "plt.plot(history.history['acc'], 'go', label='Training acc', alpha=0.5)\n",
    "plt.plot(history.history['val_acc'], 'r', label='Validation acc')\n",
    "plt.title('Training and validation accuracy')\n",
    "plt.legend()\n",
    "plt.show()"
   ]
  },
  {
   "cell_type": "code",
   "execution_count": null,
   "id": "dense-major",
   "metadata": {},
   "outputs": [],
   "source": [
    "model.save(\"pretrained_dbc.h5\")"
   ]
  }
 ],
 "metadata": {
  "kernelspec": {
   "display_name": "Python 3",
   "language": "python",
   "name": "python3"
  },
  "language_info": {
   "codemirror_mode": {
    "name": "ipython",
    "version": 3
   },
   "file_extension": ".py",
   "mimetype": "text/x-python",
   "name": "python",
   "nbconvert_exporter": "python",
   "pygments_lexer": "ipython3",
   "version": "3.8.8"
  }
 },
 "nbformat": 4,
 "nbformat_minor": 5
}
