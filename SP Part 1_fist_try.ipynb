{
 "cells": [
  {
   "cell_type": "code",
   "execution_count": 1,
   "id": "affecting-introduction",
   "metadata": {},
   "outputs": [],
   "source": [
    "import os\n",
    "import numpy as np\n",
    "import pandas as pd\n",
    "import matplotlib.pyplot as plt\n",
    "import keras\n",
    "from sklearn.preprocessing import StandardScaler\n",
    "from sklearn.model_selection import train_test_split\n",
    "from sklearn import metrics\n",
    "from keras import models\n",
    "from keras import layers\n",
    "from keras.preprocessing.image import load_img, img_to_array, ImageDataGenerator\n",
    "from sklearn.preprocessing import LabelEncoder"
   ]
  },
  {
   "cell_type": "code",
   "execution_count": 68,
   "id": "covered-petersburg",
   "metadata": {},
   "outputs": [],
   "source": [
    "# Data gathering\n",
    "\n",
    "x = []\n",
    "y = []\n",
    "IM_SIZE = 200\n",
    "NUM_CLASSES = 120\n",
    "path = './Data/dog-breed-identification'\n",
    "\n",
    "df = pd.read_csv(f'{path}/labels.csv', header=0)\n",
    "breeds = list(df.breed.value_counts()[:NUM_CLASSES].index)\n",
    "labels = df[df.breed.isin(breeds)]\n",
    "\n",
    "for root, _, files in os.walk(f'{path}/train/'):\n",
    "    for file in files:\n",
    "        if file.split(\".\")[0] in labels.id.values:\n",
    "            img = load_img(f'{root}/{file}', grayscale=False, color_mode='rgb', target_size=(IM_SIZE, IM_SIZE))\n",
    "            x.append(img_to_array(img))\n",
    "            y.append(labels[labels.id == file.split(\".\")[0]].breed)\n",
    "\n",
    "x = np.array(x)"
   ]
  },
  {
   "cell_type": "code",
   "execution_count": 69,
   "id": "dated-mobile",
   "metadata": {},
   "outputs": [],
   "source": [
    "# Label Encoding\n",
    "le = LabelEncoder() \n",
    "y = le.fit_transform(y)"
   ]
  },
  {
   "cell_type": "code",
   "execution_count": 71,
   "id": "clean-transcript",
   "metadata": {},
   "outputs": [],
   "source": [
    "mapping = dict(zip(range(len(le.classes_)), le.classes_))"
   ]
  },
  {
   "cell_type": "code",
   "execution_count": 72,
   "id": "bronze-italian",
   "metadata": {},
   "outputs": [],
   "source": [
    "# Data splitting\n",
    "\n",
    "x_train, x_test, y_train, y_test = train_test_split(x, y, test_size=0.25)"
   ]
  },
  {
   "cell_type": "code",
   "execution_count": 73,
   "id": "gorgeous-thousand",
   "metadata": {},
   "outputs": [],
   "source": [
    "y_train = keras.utils.to_categorical(y_train, num_classes=NUM_CLASSES)\n",
    "y_test = keras.utils.to_categorical(y_test, num_classes=NUM_CLASSES)"
   ]
  },
  {
   "cell_type": "code",
   "execution_count": 74,
   "id": "attached-proposal",
   "metadata": {},
   "outputs": [],
   "source": [
    "# Data generators\n",
    "\n",
    "train_datagen = ImageDataGenerator(\n",
    "    rotation_range=35,\n",
    "    width_shift_range=0.25,\n",
    "    height_shift_range=0.25,\n",
    "    rescale=1./255,\n",
    "    shear_range=0.25,\n",
    "    zoom_range=0.25,\n",
    "    horizontal_flip=True,\n",
    "    fill_mode='nearest')\n",
    "\n",
    "test_datagen=ImageDataGenerator(rescale=1./255)\n",
    "\n",
    "training_set=train_datagen.flow(x_train,y=y_train,batch_size=64)\n",
    "testing_set=test_datagen.flow(x_test,y=y_test,batch_size=64)"
   ]
  },
  {
   "cell_type": "code",
   "execution_count": 75,
   "id": "incomplete-selection",
   "metadata": {},
   "outputs": [
    {
     "name": "stdout",
     "output_type": "stream",
     "text": [
      "Model: \"sequential\"\n",
      "_________________________________________________________________\n",
      "Layer (type)                 Output Shape              Param #   \n",
      "=================================================================\n",
      "conv2d (Conv2D)              (None, 198, 198, 8)       224       \n",
      "_________________________________________________________________\n",
      "dropout (Dropout)            (None, 198, 198, 8)       0         \n",
      "_________________________________________________________________\n",
      "max_pooling2d (MaxPooling2D) (None, 99, 99, 8)         0         \n",
      "_________________________________________________________________\n",
      "batch_normalization (BatchNo (None, 99, 99, 8)         32        \n",
      "_________________________________________________________________\n",
      "conv2d_1 (Conv2D)            (None, 97, 97, 16)        1168      \n",
      "_________________________________________________________________\n",
      "max_pooling2d_1 (MaxPooling2 (None, 48, 48, 16)        0         \n",
      "_________________________________________________________________\n",
      "dropout_1 (Dropout)          (None, 48, 48, 16)        0         \n",
      "_________________________________________________________________\n",
      "batch_normalization_1 (Batch (None, 48, 48, 16)        64        \n",
      "_________________________________________________________________\n",
      "conv2d_2 (Conv2D)            (None, 46, 46, 32)        4640      \n",
      "_________________________________________________________________\n",
      "max_pooling2d_2 (MaxPooling2 (None, 23, 23, 32)        0         \n",
      "_________________________________________________________________\n",
      "flatten (Flatten)            (None, 16928)             0         \n",
      "_________________________________________________________________\n",
      "dense (Dense)                (None, 240)               4062960   \n",
      "_________________________________________________________________\n",
      "dropout_2 (Dropout)          (None, 240)               0         \n",
      "_________________________________________________________________\n",
      "dense_1 (Dense)              (None, 10)                2410      \n",
      "=================================================================\n",
      "Total params: 4,071,498\n",
      "Trainable params: 4,071,450\n",
      "Non-trainable params: 48\n",
      "_________________________________________________________________\n"
     ]
    }
   ],
   "source": [
    "# Model\n",
    "from keras.layers import Conv2D, MaxPooling2D, BatchNormalization, Flatten, Dense, Dropout\n",
    "from keras.models import Sequential\n",
    "\n",
    "model = models.Sequential()\n",
    "\n",
    "model.add(Conv2D(8,input_shape=(IM_SIZE,IM_SIZE, 3),kernel_size=(3,3),activation='relu'))\n",
    "model.add(Dropout(0.25))\n",
    "model.add(MaxPooling2D((2,2)))\n",
    "model.add(BatchNormalization())\n",
    "model.add(Conv2D(16,kernel_size=(3,3),activation='relu'))\n",
    "model.add(MaxPooling2D((2,2)))\n",
    "model.add(Dropout(0.4))\n",
    "model.add(BatchNormalization())\n",
    "model.add(Conv2D(32,kernel_size=(3,3),activation='relu'))\n",
    "model.add(MaxPooling2D((2,2)))\n",
    "model.add(Flatten())\n",
    "model.add(Dense(240, activation='relu', kernel_regularizer=keras.regularizers.L2(0.0005)))\n",
    "model.add(Dropout(0.2))\n",
    "model.add(Dense(NUM_CLASSES, activation='softmax', kernel_regularizer=keras.regularizers.L2(0.00025)))\n",
    "model.summary()"
   ]
  },
  {
   "cell_type": "code",
   "execution_count": 80,
   "id": "outer-turkish",
   "metadata": {
    "scrolled": false
   },
   "outputs": [
    {
     "name": "stdout",
     "output_type": "stream",
     "text": [
      "Epoch 1/200\n",
      "14/14 [==============================] - 14s 858ms/step - loss: 2.3006 - acc: 0.1224 - val_loss: 2.3066 - val_acc: 0.0804\n",
      "Epoch 2/200\n",
      "14/14 [==============================] - 14s 1s/step - loss: 2.3016 - acc: 0.1161 - val_loss: 2.3065 - val_acc: 0.0804\n",
      "Epoch 3/200\n",
      "14/14 [==============================] - 15s 1s/step - loss: 2.3017 - acc: 0.1089 - val_loss: 2.3065 - val_acc: 0.0804\n",
      "Epoch 4/200\n",
      "14/14 [==============================] - 13s 896ms/step - loss: 2.3021 - acc: 0.1255 - val_loss: 2.3064 - val_acc: 0.0804\n",
      "Epoch 5/200\n",
      "14/14 [==============================] - 13s 894ms/step - loss: 2.3022 - acc: 0.1165 - val_loss: 2.3064 - val_acc: 0.0804\n",
      "Epoch 6/200\n",
      "14/14 [==============================] - 13s 882ms/step - loss: 2.3013 - acc: 0.1236 - val_loss: 2.3064 - val_acc: 0.0804\n",
      "Epoch 7/200\n",
      "14/14 [==============================] - 13s 890ms/step - loss: 2.3019 - acc: 0.1116 - val_loss: 2.3063 - val_acc: 0.0804\n",
      "Epoch 8/200\n",
      "14/14 [==============================] - 13s 899ms/step - loss: 2.3027 - acc: 0.1183 - val_loss: 2.3063 - val_acc: 0.0804\n",
      "Epoch 9/200\n",
      "14/14 [==============================] - 13s 884ms/step - loss: 2.3047 - acc: 0.1015 - val_loss: 2.3062 - val_acc: 0.0804\n",
      "Epoch 10/200\n",
      "14/14 [==============================] - 14s 1s/step - loss: 2.3044 - acc: 0.1026 - val_loss: 2.3062 - val_acc: 0.0804\n",
      "Epoch 11/200\n",
      "14/14 [==============================] - 13s 890ms/step - loss: 2.3031 - acc: 0.1214 - val_loss: 2.3062 - val_acc: 0.0804\n",
      "Epoch 12/200\n",
      "14/14 [==============================] - 13s 888ms/step - loss: 2.3016 - acc: 0.1064 - val_loss: 2.3062 - val_acc: 0.0804\n",
      "Epoch 13/200\n",
      "14/14 [==============================] - 13s 923ms/step - loss: 2.3022 - acc: 0.1200 - val_loss: 2.3061 - val_acc: 0.0804\n",
      "Epoch 14/200\n",
      "14/14 [==============================] - 18s 1s/step - loss: 2.3028 - acc: 0.1146 - val_loss: 2.3061 - val_acc: 0.0804\n",
      "Epoch 15/200\n",
      "14/14 [==============================] - 21s 1s/step - loss: 2.3025 - acc: 0.1259 - val_loss: 2.3061 - val_acc: 0.0804\n",
      "Epoch 16/200\n",
      "14/14 [==============================] - 17s 1s/step - loss: 2.3024 - acc: 0.1210 - val_loss: 2.3060 - val_acc: 0.0804\n",
      "Epoch 17/200\n",
      "14/14 [==============================] - 15s 1s/step - loss: 2.3011 - acc: 0.1136 - val_loss: 2.3060 - val_acc: 0.0804\n",
      "Epoch 18/200\n",
      "14/14 [==============================] - 15s 1s/step - loss: 2.3023 - acc: 0.0965 - val_loss: 2.3060 - val_acc: 0.0804\n",
      "Epoch 19/200\n",
      "14/14 [==============================] - 15s 1s/step - loss: 2.3022 - acc: 0.0985 - val_loss: 2.3060 - val_acc: 0.0804\n",
      "Epoch 20/200\n",
      "14/14 [==============================] - 15s 1s/step - loss: 2.2991 - acc: 0.1202 - val_loss: 2.3059 - val_acc: 0.0804\n",
      "Epoch 21/200\n",
      "14/14 [==============================] - 15s 1s/step - loss: 2.3017 - acc: 0.1031 - val_loss: 2.3059 - val_acc: 0.0804\n",
      "Epoch 22/200\n",
      "14/14 [==============================] - 15s 1s/step - loss: 2.3026 - acc: 0.1144 - val_loss: 2.3059 - val_acc: 0.0804\n",
      "Epoch 23/200\n",
      "14/14 [==============================] - 15s 1s/step - loss: 2.2999 - acc: 0.1209 - val_loss: 2.3058 - val_acc: 0.0804\n",
      "Epoch 24/200\n",
      "14/14 [==============================] - 15s 1s/step - loss: 2.3001 - acc: 0.1209 - val_loss: 2.3058 - val_acc: 0.0804\n",
      "Epoch 25/200\n",
      "14/14 [==============================] - 18s 1s/step - loss: 2.3019 - acc: 0.0983 - val_loss: 2.3058 - val_acc: 0.0804\n",
      "Epoch 26/200\n",
      "14/14 [==============================] - 16s 1s/step - loss: 2.3022 - acc: 0.1233 - val_loss: 2.3058 - val_acc: 0.0804\n",
      "Epoch 27/200\n",
      "14/14 [==============================] - 16s 1s/step - loss: 2.3013 - acc: 0.0928 - val_loss: 2.3058 - val_acc: 0.0804\n",
      "Epoch 28/200\n",
      "14/14 [==============================] - 16s 1s/step - loss: 2.3043 - acc: 0.1078 - val_loss: 2.3058 - val_acc: 0.0804\n",
      "Epoch 29/200\n",
      "14/14 [==============================] - 23s 2s/step - loss: 2.3011 - acc: 0.1216 - val_loss: 2.3057 - val_acc: 0.0804\n",
      "Epoch 30/200\n",
      "14/14 [==============================] - 19s 1s/step - loss: 2.3027 - acc: 0.1326 - val_loss: 2.3057 - val_acc: 0.0804\n",
      "Epoch 31/200\n",
      "14/14 [==============================] - 19s 1s/step - loss: 2.3045 - acc: 0.1066 - val_loss: 2.3057 - val_acc: 0.0804\n",
      "Epoch 32/200\n",
      "14/14 [==============================] - 21s 1s/step - loss: 2.3014 - acc: 0.1257 - val_loss: 2.3057 - val_acc: 0.0804\n",
      "Epoch 33/200\n",
      "14/14 [==============================] - 19s 1s/step - loss: 2.3032 - acc: 0.1142 - val_loss: 2.3057 - val_acc: 0.0804\n",
      "Epoch 34/200\n",
      "14/14 [==============================] - 18s 1s/step - loss: 2.3030 - acc: 0.0983 - val_loss: 2.3056 - val_acc: 0.0804\n",
      "Epoch 35/200\n",
      "14/14 [==============================] - 20s 1s/step - loss: 2.3014 - acc: 0.1262 - val_loss: 2.3056 - val_acc: 0.0804\n",
      "Epoch 36/200\n",
      "14/14 [==============================] - 16s 1s/step - loss: 2.3022 - acc: 0.0956 - val_loss: 2.3056 - val_acc: 0.0804\n",
      "Epoch 37/200\n",
      "14/14 [==============================] - 15s 1s/step - loss: 2.3022 - acc: 0.1040 - val_loss: 2.3056 - val_acc: 0.0804\n",
      "Epoch 38/200\n",
      "14/14 [==============================] - 14s 1s/step - loss: 2.3009 - acc: 0.1070 - val_loss: 2.3056 - val_acc: 0.0804\n",
      "Epoch 39/200\n",
      "14/14 [==============================] - 15s 1s/step - loss: 2.3052 - acc: 0.0861 - val_loss: 2.3056 - val_acc: 0.0804\n",
      "Epoch 40/200\n",
      "14/14 [==============================] - 18s 1s/step - loss: 2.3034 - acc: 0.1038 - val_loss: 2.3056 - val_acc: 0.0804\n",
      "Epoch 41/200\n",
      "14/14 [==============================] - 16s 1s/step - loss: 2.2995 - acc: 0.1158 - val_loss: 2.3055 - val_acc: 0.0804\n",
      "Epoch 42/200\n",
      "14/14 [==============================] - 14s 995ms/step - loss: 2.3020 - acc: 0.1018 - val_loss: 2.3055 - val_acc: 0.0804\n",
      "Epoch 43/200\n",
      "14/14 [==============================] - 14s 993ms/step - loss: 2.3013 - acc: 0.1261 - val_loss: 2.3055 - val_acc: 0.0804\n",
      "Epoch 44/200\n",
      "14/14 [==============================] - 14s 1s/step - loss: 2.3012 - acc: 0.1059 - val_loss: 2.3055 - val_acc: 0.0804\n",
      "Epoch 45/200\n",
      "14/14 [==============================] - 14s 1s/step - loss: 2.3028 - acc: 0.1099 - val_loss: 2.3055 - val_acc: 0.0804\n",
      "Epoch 46/200\n",
      "14/14 [==============================] - 14s 994ms/step - loss: 2.3014 - acc: 0.1054 - val_loss: 2.3055 - val_acc: 0.0804\n",
      "Epoch 47/200\n",
      "14/14 [==============================] - 16s 1s/step - loss: 2.3006 - acc: 0.1269 - val_loss: 2.3055 - val_acc: 0.0804\n",
      "Epoch 48/200\n",
      "14/14 [==============================] - 18s 1s/step - loss: 2.3014 - acc: 0.1256 - val_loss: 2.3055 - val_acc: 0.0804\n",
      "Epoch 49/200\n",
      "14/14 [==============================] - 17s 1s/step - loss: 2.3022 - acc: 0.1184 - val_loss: 2.3055 - val_acc: 0.0804\n",
      "Epoch 50/200\n",
      "14/14 [==============================] - 16s 1s/step - loss: 2.3013 - acc: 0.1064 - val_loss: 2.3054 - val_acc: 0.0804\n",
      "Epoch 51/200\n",
      "14/14 [==============================] - 16s 1s/step - loss: 2.3005 - acc: 0.1196 - val_loss: 2.3054 - val_acc: 0.0804\n",
      "Epoch 52/200\n",
      "14/14 [==============================] - 16s 1s/step - loss: 2.3014 - acc: 0.1048 - val_loss: 2.3054 - val_acc: 0.0804\n",
      "Epoch 53/200\n",
      "14/14 [==============================] - 16s 1s/step - loss: 2.3014 - acc: 0.1046 - val_loss: 2.3054 - val_acc: 0.0804\n",
      "Epoch 54/200\n",
      "14/14 [==============================] - 16s 1s/step - loss: 2.3022 - acc: 0.1249 - val_loss: 2.3054 - val_acc: 0.0804\n",
      "Epoch 55/200\n",
      "14/14 [==============================] - 15s 1s/step - loss: 2.3000 - acc: 0.1015 - val_loss: 2.3054 - val_acc: 0.0804\n",
      "Epoch 56/200\n",
      "14/14 [==============================] - 16s 1s/step - loss: 2.3032 - acc: 0.0900 - val_loss: 2.3054 - val_acc: 0.0804\n",
      "Epoch 57/200\n",
      "14/14 [==============================] - 16s 1s/step - loss: 2.3008 - acc: 0.1174 - val_loss: 2.3054 - val_acc: 0.0804\n",
      "Epoch 58/200\n",
      "14/14 [==============================] - 16s 1s/step - loss: 2.3026 - acc: 0.1113 - val_loss: 2.3054 - val_acc: 0.0804\n",
      "Epoch 59/200\n",
      "14/14 [==============================] - 16s 1s/step - loss: 2.3007 - acc: 0.1108 - val_loss: 2.3054 - val_acc: 0.0804\n",
      "Epoch 60/200\n",
      "14/14 [==============================] - 16s 1s/step - loss: 2.3000 - acc: 0.1153 - val_loss: 2.3054 - val_acc: 0.0804\n",
      "Epoch 61/200\n",
      "14/14 [==============================] - 17s 1s/step - loss: 2.3005 - acc: 0.1089 - val_loss: 2.3054 - val_acc: 0.0804\n",
      "Epoch 62/200\n",
      "14/14 [==============================] - 17s 1s/step - loss: 2.2998 - acc: 0.1020 - val_loss: 2.3054 - val_acc: 0.0804\n"
     ]
    },
    {
     "name": "stdout",
     "output_type": "stream",
     "text": [
      "Epoch 63/200\n",
      "14/14 [==============================] - 15s 1s/step - loss: 2.3009 - acc: 0.1319 - val_loss: 2.3054 - val_acc: 0.0804\n"
     ]
    }
   ],
   "source": [
    "from keras import optimizers\n",
    "\n",
    "model.compile(loss='categorical_crossentropy',\n",
    "              optimizer=optimizers.RMSprop(lr=1e-4),\n",
    "              metrics=['acc'])\n",
    "\n",
    "history = model.fit(training_set, validation_data=testing_set, epochs=200, callbacks=[keras.callbacks.EarlyStopping(monitor=\"val_loss\", patience=3)])"
   ]
  },
  {
   "cell_type": "code",
   "execution_count": 81,
   "id": "smaller-catalyst",
   "metadata": {},
   "outputs": [
    {
     "data": {
      "image/png": "[encoded data removed]",
      "text/plain": [
       "<Figure size 432x288 with 1 Axes>"
      ]
     },
     "metadata": {
      "needs_background": "light"
     },
     "output_type": "display_data"
    }
   ],
   "source": [
    "# Accuracy plot\n",
    "\n",
    "plt.plot(history.history['acc'], 'go', label='Training acc', alpha=0.25)\n",
    "plt.plot(history.history['val_acc'], 'r', label='Validation acc')\n",
    "plt.title('Training and validation accuracy')\n",
    "plt.legend()\n",
    "plt.show()"
   ]
  },
  {
   "cell_type": "code",
   "execution_count": null,
   "id": "dense-major",
   "metadata": {},
   "outputs": [],
   "source": [
    "model.save(\"dbc.h5\")"
   ]
  }
 ],
 "metadata": {
  "kernelspec": {
   "display_name": "Python 3",
   "language": "python",
   "name": "python3"
  },
  "language_info": {
   "codemirror_mode": {
    "name": "ipython",
    "version": 3
   },
   "file_extension": ".py",
   "mimetype": "text/x-python",
   "name": "python",
   "nbconvert_exporter": "python",
   "pygments_lexer": "ipython3",
   "version": "3.8.8"
  }
 },
 "nbformat": 4,
 "nbformat_minor": 5
}
